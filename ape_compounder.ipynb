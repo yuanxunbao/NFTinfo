{
 "cells": [
  {
   "cell_type": "code",
   "execution_count": 145,
   "id": "9922a1bc-2b2c-4050-9a82-a77a173103d9",
   "metadata": {},
   "outputs": [
    {
     "name": "stdout",
     "output_type": "stream",
     "text": [
      "                date  bayc_tvl  mayc_tvl  bakc_tvl  apecoin_tvl\n",
      "0    2023-04-02 0:00  45627657  17914027   3497017     61309590\n",
      "1    2023-04-01 0:00  45384836  17910947   3489958     60746231\n",
      "2    2023-03-31 0:00  45289177  17812422   3479574     60064536\n",
      "3    2023-03-30 0:00  45039747  17726359   3475982     59441089\n",
      "4    2023-03-29 0:00  44891732  17662648   3464809     58817854\n",
      "5    2023-03-28 0:00  44689136  17623403   3458771     58488039\n",
      "6    2023-03-27 0:00  44487572  17582868   3443651     57337558\n",
      "7    2023-03-26 0:00  44557426  17471195   3441870     56689042\n",
      "8    2023-03-25 0:00  44623718  17322418   3435188     56616389\n",
      "9    2023-03-24 0:00  44626547  17221189   3428675     56199826\n",
      "10   2023-03-23 0:00  44511340  17159740   3423907     55695471\n",
      "11   2023-03-22 0:00  44531088  17180643   3433044     54556333\n",
      "12   2023-03-21 0:00  44675013  17232804   3437872     54254037\n",
      "13   2023-03-20 0:00  44537086  17228413   3425348     54095114\n",
      "14   2023-03-19 0:00  44624873  17189998   3414631     53039226\n",
      "15   2023-03-18 0:00  44516427  17122253   3400303     52322871\n",
      "16   2023-03-17 0:00  44408846  17098823   3395974     51203628\n",
      "17   2023-03-16 0:00  44374877  17140022   3390124     50608869\n",
      "18   2023-03-15 0:00  44237350  17083034   3370564     50234608\n",
      "19   2023-03-14 0:00  44371894  17059193   3363906     50187999\n",
      "20   2023-03-13 0:00  44461271  17080704   3342671     49658898\n",
      "21   2023-03-12 0:00  44327735  16959542   3331136     49885310\n",
      "22   2023-03-11 0:00  44326503  16836723   3315706     50145663\n",
      "23   2023-03-10 0:00  44290587  16871312   3310580     50676746\n",
      "24   2023-03-09 0:00  44117511  16766260   3309279     51179287\n",
      "25   2023-03-08 0:00  44039311  16794765   3315126     51314173\n",
      "26   2023-03-07 0:00  44036273  16829603   3305552     51171015\n",
      "27   2023-03-06 0:00  44003547  16809531   3280261     51294521\n",
      "28   2023-03-05 0:00  44072219  16806314   3279852     51155773\n",
      "29   2023-03-04 0:00  43898674  16782414   3284318     51138519\n",
      "30   2023-03-03 0:00  43722738  16763542   3270195     50774936\n",
      "31   2023-03-02 0:00  43608042  16740621   3247743     50482304\n",
      "32   2023-03-01 0:00  43468838  16693553   3245169     50532756\n",
      "33   2023-02-28 0:00  43318389  16679412   3253080     50049911\n",
      "34   2023-02-27 0:00  43119393  16618436   3250100     49850408\n",
      "35   2023-02-26 0:00  42835838  16579385   3251611     49666004\n",
      "36   2023-02-25 0:00  42765033  16467338   3247001     49374057\n",
      "37   2023-02-24 0:00  42431088  16349145   3227667     49446650\n",
      "38   2023-02-23 0:00  42327121  16482647   3227093     49702245\n",
      "39   2023-02-22 0:00  42345986  16419746   3215779     48987217\n",
      "40   2023-02-21 0:00  42202558  16356822   3202965     48628151\n",
      "41   2023-02-20 0:00  42578114  16304539   3187899     48187664\n",
      "42   2023-02-19 0:00  42418350  16283313   3194019     48075485\n",
      "43   2023-02-18 0:00  42339353  16209638   3211421     48031124\n",
      "44   2023-02-17 0:00  42199248  16151764   3192695     47703956\n",
      "45   2023-02-16 0:00  42094359  16051721   3187554     47592794\n",
      "46   2023-02-15 0:00  41974056  15983109   3182505     46618072\n",
      "47   2023-02-14 0:00  41948328  15914778   3178791     45844554\n",
      "48   2023-02-13 0:00  41849839  15754812   3160872     45565411\n",
      "49   2023-02-12 0:00  41724336  15686841   3160547     46359476\n",
      "50   2023-02-11 0:00  41608037  15633012   3153500     47049398\n",
      "51   2023-02-10 0:00  41527432  15594754   3144428     46791088\n",
      "52   2023-02-09 0:00  41648977  15609409   3131181     46304654\n",
      "53   2023-02-08 0:00  41394980  15587120   3122101     46289228\n",
      "54   2023-02-07 0:00  41425436  15511538   3117506     45769553\n",
      "55   2023-02-06 0:00  41214893  15457145   3112989     45933329\n",
      "56   2023-02-05 0:00  41053274  15403879   3091306     44584630\n",
      "57   2023-02-04 0:00  41046655  15344232   3071023     44356765\n",
      "58   2023-02-03 0:00  40852139  15297791   3039843     44562963\n",
      "59   2023-02-02 0:00  40669098  15220602   3033835     44489882\n",
      "60   2023-02-01 0:00  40381200  15091192   3018543     43952971\n",
      "61   2023-01-31 0:00  40269847  15078011   3002095     43206260\n",
      "62   2023-01-30 0:00  39997835  14981004   2978567     43336981\n",
      "63   2023-01-29 0:00  39691282  14927004   2976504     42987546\n",
      "64   2023-01-27 0:00  39322369  14756652   2946659     42261365\n",
      "65   2023-01-26 0:00  38858113  14642616   2920272     42399982\n",
      "66   2023-01-25 0:00  38562357  14521713   2893352     42016275\n",
      "67   2023-01-24 0:00  38666109  14344840   2877293     42190402\n",
      "68   2023-01-23 0:00  38243717  14244761   2848724     42313769\n",
      "69   2023-01-22 0:00  38021566  14122683   2829365     41882875\n",
      "70   2023-01-21 0:00  37416478  14012965   2824637     41320132\n",
      "71   2023-01-20 0:00  37295811  13867637   2813046     41773096\n",
      "72   2023-01-19 0:00  36287378  13563727   2773433     41683238\n",
      "73   2023-01-18 0:00  35209094  13342736   2717627     39584019\n",
      "74   2023-01-17 0:00  35941101  13328875   2731343     39532968\n",
      "75   2023-01-16 0:00  36075790  13385412   2726652     39322045\n",
      "76   2023-01-15 0:00  36112150  13318830   2699372     39559319\n",
      "77   2023-01-14 0:00  35672195  13271718   2677902     39207503\n",
      "78   2023-01-13 0:00  35699432  13243488   2678748     38074099\n",
      "79   2023-01-12 0:00  35565588  13126532   2665364     38257405\n",
      "80   2023-01-11 0:00  35757755  13243112   2654865     38300853\n",
      "81   2023-01-10 0:00  35625643  13235805   2632878     37806691\n",
      "82   2023-01-09 0:00  35653753  13143511   2610222     36769847\n",
      "83   2023-01-08 0:00  35111804  13113566   2604181     36280118\n",
      "84   2023-01-07 0:00  34711196  13001766   2592518     35679292\n",
      "85   2023-01-06 0:00  34506902  12894599   2580424     35385716\n",
      "86   2023-01-05 0:00  34022854  12903128   2594142     35070665\n",
      "87   2023-01-04 0:00  33732551  12773216   2579672     34305616\n",
      "88   2023-01-03 0:00  33397404  12636051   2550527     34183735\n",
      "89   2023-01-02 0:00  32911756  12467199   2527737     33835172\n",
      "90   2023-01-01 0:00  32400630  12374720   2504091     32521611\n",
      "91   2022-12-31 0:00  32282965  12252453   2477663     32318916\n",
      "92   2022-12-30 0:00  32101856  12137848   2453958     32139644\n",
      "93   2022-12-29 0:00  32214493  12143780   2446655     31706354\n",
      "94   2022-12-28 0:00  32133149  12110988   2425080     31327146\n",
      "95   2022-12-27 0:00  31864997  12027006   2431622     30895372\n",
      "96   2022-12-26 0:00  31552500  11934146   2395624     30637800\n",
      "97   2022-12-25 0:00  31449521  11868750   2368951     30662513\n",
      "98   2022-12-24 0:00  31365955  11796191   2348217     30647125\n",
      "99   2022-12-23 0:00  30871609  11645068   2324016     30095801\n",
      "100  2022-12-22 0:00  30694908  11489191   2294591     28449792\n",
      "101  2022-12-21 0:00  30589296  11366219   2268924     28084575\n",
      "102  2022-12-20 0:00  30139244  11201884   2220136     27777324\n",
      "103  2022-12-19 0:00  29908296  11087216   2218772     27204168\n",
      "104  2022-12-18 0:00  29672342  10914143   2193646     26943501\n",
      "105  2022-12-17 0:00  29449632  10832122   2175569     26970607\n",
      "106  2022-12-16 0:00  29156811  10713233   2151187     26967521\n",
      "107  2022-12-15 0:00  28779516  10572886   2119073     26274082\n",
      "108  2022-12-14 0:00  27018191  10146688   2044062     24730917\n",
      "109  2022-12-13 0:00  25634440   9496907   1973155     23795458\n",
      "110  2022-12-12 0:00  23202896   8742418   1896280     22220421\n"
     ]
    }
   ],
   "source": [
    "import numpy as np\n",
    "import matplotlib.pyplot as plt\n",
    "import pandas as pd\n",
    "from sklearn.linear_model import LinearRegression\n",
    "\n",
    "\n",
    "global nbayc, nmayc, nbakc, \\\n",
    "apecoin_reward_q1, bayc_reward_q1, mayc_reward_q1, bakc_reward_q1, \\\n",
    "apecoin_reward_q2, bayc_reward_q2, mayc_reward_q2, bakc_reward_q2\n",
    "\n",
    "nbayc = 10094\n",
    "nmayc = 2042\n",
    "nbakc = 856\n",
    "\n",
    "apecoin_reward_q1 = 10500000\n",
    "bayc_reward_q1 =    16486750\n",
    "mayc_reward_q1 =     6671000\n",
    "bakc_reward_q1 =     1342250\n",
    "\n",
    "apecoin_reward_q2 =  9000000\n",
    "bayc_reward_q2 =    14131500\n",
    "mayc_reward_q2 =     5718000\n",
    "bakc_reward_q2 =     1150500\n",
    "\n",
    "apecoin_reward_q3 =  6000000\n",
    "bayc_reward_q3 =     9421000\n",
    "mayc_reward_q3 =     3812000\n",
    "bakc_reward_q3 =      767000\n",
    "\n",
    "apecoin_reward_q4 =  4500000\n",
    "bayc_reward_q4 =     7065750\n",
    "mayc_reward_q4 =     2859000\n",
    "bakc_reward_q4 =      575250\n",
    "\n",
    "# read apecoin staking data\n",
    "df = pd.read_csv('apestake_dashboard - tvl.csv',thousands=',')\n",
    "print(df.to_string())\n",
    "\n",
    "# define my compounder\n",
    "def ape_compound(t, nl, apr_l, comp_freq, comp_cost):\n",
    "\n",
    "    n = len(t)\n",
    "    p = np.zeros(n)\n",
    "    \n",
    "    p[0] = 0\n",
    "    q = 0\n",
    "    \n",
    "    for j in range(1,n):\n",
    "        p[j] = p[j-1] * (1+ apr_l[3,j] / 365) # ape pool compunding\n",
    "        \n",
    "        # nft reward \n",
    "        q += ( nl[0]*nbayc*apr_l[0,j] + nl[1]*nmayc*apr_l[1,j] + nl[2]*nbakc*apr_l[2,j] ) / 365 \n",
    "        \n",
    "        if j%comp_freq == 0 :\n",
    "            \n",
    "            p[j] += q - comp_cost \n",
    "            q = 0 # reset compounder\n",
    "            \n",
    "    return p"
   ]
  },
  {
   "cell_type": "code",
   "execution_count": 136,
   "id": "ed64de58-06da-4d9d-be04-dcc67c6b7f7e",
   "metadata": {},
   "outputs": [
    {
     "data": {
      "image/png": "[encoded data removed]",
      "text/plain": [
       "<Figure size 432x288 with 1 Axes>"
      ]
     },
     "metadata": {
      "needs_background": "light"
     },
     "output_type": "display_data"
    }
   ],
   "source": [
    "Y_bayc = df.iloc[:,1].values.reshape(-1,1)\n",
    "Y_mayc = df.iloc[:,2].values.reshape(-1,1)\n",
    "Y_bakc = df.iloc[:,3].values.reshape(-1,1)\n",
    "Y_apecoin = df.iloc[:,4].values.reshape(-1,1)\n",
    "\n",
    "X = np.arange(len(Y_bayc)).reshape(-1,1)[::-1]\n",
    "\n",
    "'''\n",
    "bayc_apr = df.iloc[:,1].values.reshape(-1,1)\n",
    "mayc_apr = df.iloc[:,2].values.reshape(-1,1)\n",
    "bakc_apr = df.iloc[:,3].values.reshape(-1,1)\n",
    "apecoin_apr = df.iloc[:,4].values.reshape(-1,1)\n",
    "'''\n",
    "\n",
    "bayc_tvl = LinearRegression().fit(X, Y_bayc)\n",
    "mayc_tvl = LinearRegression().fit(X, Y_mayc)\n",
    "bakc_tvl = LinearRegression().fit(X, Y_bakc)\n",
    "apecoin_tvl = LinearRegression().fit(X, Y_apecoin)\n",
    "\n",
    "\n",
    "t_q1 = np.arange(len(Y_bayc)+60)\n",
    "X_pred = t_q1.reshape(-1,1)\n",
    "Y_bayc_pred = bayc_tvl.predict(X_pred) \n",
    "Y_mayc_pred = mayc_tvl.predict(X_pred) \n",
    "Y_bakc_pred = bakc_tvl.predict(X_pred) \n",
    "Y_apecoin_pred = apecoin_tvl.predict(X_pred) \n",
    "\n",
    "fig, ax = plt.subplots()\n",
    "ax.scatter(X,Y_bayc, marker = 'o', label='bayc')\n",
    "ax.scatter(X,Y_mayc, marker = 's', label='mayc')\n",
    "ax.scatter(X,Y_bakc, marker = 'x', label='bakc' )\n",
    "ax.scatter(X,Y_apecoin, marker = 'd', label='apecoin')\n",
    "\n",
    "ax.plot(X_pred,Y_bayc_pred)\n",
    "ax.plot(X_pred,Y_mayc_pred)\n",
    "ax.plot(X_pred,Y_bakc_pred)\n",
    "ax.plot(X_pred,Y_apecoin_pred)\n",
    "ax.legend()\n",
    "\n",
    "ax.set_title('APE Staking Q1 TVL')\n",
    "ax.set_xlabel('days into staking')\n",
    "ax.set_ylabel('$APE')\n",
    "\n",
    "plt.savefig('apestaking_tvl_q1.png',dpi=300,  facecolor='w')"
   ]
  },
  {
   "cell_type": "code",
   "execution_count": 137,
   "id": "94d19ccb-0634-4fd2-a9b7-87256e15ab1e",
   "metadata": {},
   "outputs": [],
   "source": [
    "def compute_apr(y0,y1,y2,y3):\n",
    "    \n",
    "    n = len(y0)\n",
    "    a0 = np.zeros([n,1])\n",
    "    a1 = np.zeros([n,1])\n",
    "    a2 = np.zeros([n,1])\n",
    "    a3 = np.zeros([n,1])\n",
    "    \n",
    "    \n",
    "    a0[-91:,:] = bayc_reward_q1*4 / y0[-91:,:]\n",
    "    a0[:-91,:] = bayc_reward_q2*4 / y0[:-91,:]\n",
    "    \n",
    "    a1[-91:,:] = mayc_reward_q1*4 / y1[-91:,:]\n",
    "    a1[:-91,:] = mayc_reward_q2*4 / y1[:-91,:]\n",
    "    \n",
    "    a2[-91:,:] = bakc_reward_q1*4 / y2[-91:,:]\n",
    "    a2[:-91,:] = bakc_reward_q2*4 / y2[:-91,:]\n",
    "    \n",
    "    a3[-91:,:] = apecoin_reward_q1*4 / y3[-91:,:]\n",
    "    a3[:-91,:] = apecoin_reward_q2*4 / y3[:-91,:]\n",
    "    \n",
    "    return a0,a1,a2,a3"
   ]
  },
  {
   "cell_type": "code",
   "execution_count": 138,
   "id": "9b3cc429-7f69-43f0-84e7-afd4bf2288ed",
   "metadata": {},
   "outputs": [],
   "source": [
    "bayc_apr, mayc_apr, bakc_apr, apecoin_apr = compute_apr(Y_bayc, Y_mayc, Y_bakc, Y_apecoin)"
   ]
  },
  {
   "cell_type": "code",
   "execution_count": 153,
   "id": "b935bb26-9012-4cbc-bfeb-20c6601fbbfc",
   "metadata": {},
   "outputs": [
    {
     "data": {
      "text/plain": [
       "array([[1.23885388],\n",
       "       [1.27676485],\n",
       "       [1.31597873],\n",
       "       [0.58718383]])"
      ]
     },
     "execution_count": 153,
     "metadata": {},
     "output_type": "execute_result"
    },
    {
     "data": {
      "image/png": "[encoded data removed]",
      "text/plain": [
       "<Figure size 432x288 with 1 Axes>"
      ]
     },
     "metadata": {
      "needs_background": "light"
     },
     "output_type": "display_data"
    }
   ],
   "source": [
    "plt.plot(bayc_apr[::-1],'o-')\n",
    "plt.plot(mayc_apr[::-1],'s')\n",
    "plt.plot(bakc_apr[::-1],'x')\n",
    "plt.plot(apecoin_apr[::-1], 'd')\n",
    "curr_apr = np.array([bayc_apr[0], mayc_apr[0], bakc_apr[0], apecoin_apr[0]])\n",
    "curr_apr"
   ]
  },
  {
   "cell_type": "code",
   "execution_count": 140,
   "id": "c3b2d7a5-49b2-4d39-b893-9528af0e8528",
   "metadata": {},
   "outputs": [],
   "source": [
    "def ape_compound1( apr, a, d0 ):\n",
    "    \n",
    "    n = 91 - d0\n",
    "    \n",
    "    y = np.zeros(n)\n",
    "    \n",
    "    y[0] = nbayc*a[0] + nmayc*a[1] + nbakc*a[2] + a[3]\n",
    "    \n",
    "    q = a[3]\n",
    "    \n",
    "    for j in range(1,n):\n",
    "        \n",
    "        p =  (nbayc*a[0]*apr[0]  + nmayc*a[1]*apr[1] + nbakc*a[2])/365\n",
    "        \n",
    "        y[j] = y[j-1] + p + q * apr[3]/365\n",
    "        \n",
    "        q = y[j] - y[j-1]\n",
    "        \n",
    "    return y, y[-1] - (nbayc*a[0] + nmayc*a[1] + nbakc*a[2])\n",
    "        \n",
    "            \n",
    "    \n",
    "    \n",
    "    "
   ]
  },
  {
   "cell_type": "code",
   "execution_count": 154,
   "id": "14721cf5-36fc-4994-9f3e-abe783b469b7",
   "metadata": {},
   "outputs": [
    {
     "data": {
      "text/plain": [
       "(array([200010.        , 200661.851606  , 201288.09532331, 201914.29784463,\n",
       "        202540.50029967, 203166.7027546 , 203792.90520954, 204419.10766447,\n",
       "        205045.31011941, 205671.51257434, 206297.71502928, 206923.91748421,\n",
       "        207550.11993915, 208176.32239408, 208802.52484902, 209428.72730395,\n",
       "        210054.92975889, 210681.13221382, 211307.33466876, 211933.53712369,\n",
       "        212559.73957863, 213185.94203356, 213812.14448849, 214438.34694343,\n",
       "        215064.54939836, 215690.7518533 , 216316.95430823, 216943.15676317,\n",
       "        217569.3592181 , 218195.56167304, 218821.76412797, 219447.96658291,\n",
       "        220074.16903784, 220700.37149278, 221326.57394771, 221952.77640265,\n",
       "        222578.97885758, 223205.18131251, 223831.38376745, 224457.58622238,\n",
       "        225083.78867732, 225709.99113225, 226336.19358719, 226962.39604212,\n",
       "        227588.59849706, 228214.80095199, 228841.00340693, 229467.20586186,\n",
       "        230093.4083168 , 230719.61077173, 231345.81322667, 231972.0156816 ,\n",
       "        232598.21813654, 233224.42059147, 233850.6230464 , 234476.82550134,\n",
       "        235103.02795627, 235729.23041121, 236355.43286614, 236981.63532108,\n",
       "        237607.83777601, 238234.04023095, 238860.24268588, 239486.44514082,\n",
       "        240112.64759575, 240738.85005069, 241365.05250562, 241991.25496056,\n",
       "        242617.45741549, 243243.65987042, 243869.86232536]),\n",
       " 60429.86232535934)"
      ]
     },
     "execution_count": 154,
     "metadata": {},
     "output_type": "execute_result"
    }
   ],
   "source": [
    "apr = curr_apr\n",
    "a = np.array([12,28,6,16570])\n",
    "q2,q2a = ape_compound1(apr,a,20)\n",
    "q2,q2a"
   ]
  },
  {
   "cell_type": "code",
   "execution_count": 155,
   "id": "900e1d2d-7d01-425d-ac04-3fed8a1675af",
   "metadata": {},
   "outputs": [
    {
     "data": {
      "text/plain": [
       "(array([243869.86232536, 244356.15938148, 244778.16804972, 245200.10776984,\n",
       "        245622.047416  , 246043.98706209, 246465.92670817, 246887.86635426,\n",
       "        247309.80600035, 247731.74564643, 248153.68529252, 248575.62493861,\n",
       "        248997.56458469, 249419.50423078, 249841.44387687, 250263.38352295,\n",
       "        250685.32316904, 251107.26281512, 251529.20246121, 251951.1421073 ,\n",
       "        252373.08175338, 252795.02139947, 253216.96104556, 253638.90069164,\n",
       "        254060.84033773, 254482.77998382, 254904.7196299 , 255326.65927599,\n",
       "        255748.59892207, 256170.53856816, 256592.47821425, 257014.41786033,\n",
       "        257436.35750642, 257858.29715251, 258280.23679859, 258702.17644468,\n",
       "        259124.11609077, 259546.05573685, 259967.99538294, 260389.93502903,\n",
       "        260811.87467511, 261233.8143212 , 261655.75396728, 262077.69361337,\n",
       "        262499.63325946, 262921.57290554, 263343.51255163, 263765.45219772,\n",
       "        264187.3918438 , 264609.33148989, 265031.27113598, 265453.21078206,\n",
       "        265875.15042815, 266297.09007423, 266719.02972032, 267140.96936641,\n",
       "        267562.90901249, 267984.84865858, 268406.78830467, 268828.72795075,\n",
       "        269250.66759684, 269672.60724293, 270094.54688901, 270516.4865351 ,\n",
       "        270938.42618118, 271360.36582727, 271782.30547336, 272204.24511944,\n",
       "        272626.18476553, 273048.12441162, 273470.0640577 , 273892.00370379,\n",
       "        274313.94334988, 274735.88299596, 275157.82264205, 275579.76228813,\n",
       "        276001.70193422, 276423.64158031, 276845.58122639, 277267.52087248,\n",
       "        277689.46051857, 278111.40016465, 278533.33981074, 278955.27945683,\n",
       "        279377.21910291, 279799.158749  , 280221.09839508, 280643.03804117,\n",
       "        281064.97768726, 281486.91733334, 281908.85697943]),\n",
       " 98468.85697943001)"
      ]
     },
     "execution_count": 155,
     "metadata": {},
     "output_type": "execute_result"
    }
   ],
   "source": [
    "apr = curr_apr * 20/30\n",
    "a = np.array([12,28,6,q2a])\n",
    "q3,q3a = ape_compound1(apr,a,0)\n",
    "q3,q3a"
   ]
  },
  {
   "cell_type": "code",
   "execution_count": 156,
   "id": "9c4d34f1-4b51-4127-bff3-5597562d8173",
   "metadata": {},
   "outputs": [
    {
     "data": {
      "text/plain": [
       "(array([281908.85697943, 282307.69467926, 282627.64863973, 282947.53914916,\n",
       "        283267.42960756, 283587.32006592, 283907.21052427, 284227.10098263,\n",
       "        284546.99144098, 284866.88189934, 285186.77235769, 285506.66281605,\n",
       "        285826.5532744 , 286146.44373276, 286466.33419111, 286786.22464947,\n",
       "        287106.11510782, 287426.00556618, 287745.89602453, 288065.78648289,\n",
       "        288385.67694124, 288705.5673996 , 289025.45785795, 289345.34831631,\n",
       "        289665.23877466, 289985.12923302, 290305.01969137, 290624.91014973,\n",
       "        290944.80060808, 291264.69106644, 291584.58152479, 291904.47198315,\n",
       "        292224.3624415 , 292544.25289986, 292864.14335821, 293184.03381657,\n",
       "        293503.92427492, 293823.81473328, 294143.70519163, 294463.59564999,\n",
       "        294783.48610834, 295103.3765667 , 295423.26702505, 295743.15748341,\n",
       "        296063.04794176, 296382.93840012, 296702.82885847, 297022.71931683,\n",
       "        297342.60977518, 297662.50023354, 297982.39069189, 298302.28115025,\n",
       "        298622.1716086 , 298942.06206696, 299261.95252531, 299581.84298367,\n",
       "        299901.73344202, 300221.62390038, 300541.51435873, 300861.40481709,\n",
       "        301181.29527544, 301501.1857338 , 301821.07619215, 302140.96665051,\n",
       "        302460.85710886, 302780.74756722, 303100.63802557, 303420.52848393,\n",
       "        303740.41894228, 304060.30940064, 304380.19985899, 304700.09031735,\n",
       "        305019.9807757 , 305339.87123406, 305659.76169241, 305979.65215077,\n",
       "        306299.54260912, 306619.43306748, 306939.32352583, 307259.21398419,\n",
       "        307579.10444254, 307898.9949009 , 308218.88535925, 308538.77581761,\n",
       "        308858.66627596, 309178.55673432, 309498.44719267, 309818.33765103,\n",
       "        310138.22810938, 310458.11856774, 310778.00902609]),\n",
       " 127338.00902609213)"
      ]
     },
     "execution_count": 156,
     "metadata": {},
     "output_type": "execute_result"
    }
   ],
   "source": [
    "apr = curr_apr * 15/30\n",
    "a = np.array([12,28,6,q3a])\n",
    "q4,q4a = ape_compound1(apr,a,0)\n",
    "q4,q4a"
   ]
  },
  {
   "cell_type": "code",
   "execution_count": null,
   "id": "a993f540-121d-45e0-a9e5-6ba0a0d67399",
   "metadata": {},
   "outputs": [],
   "source": []
  },
  {
   "cell_type": "code",
   "execution_count": null,
   "id": "0e0870f9-cbfa-4621-9d5b-306fc5021962",
   "metadata": {},
   "outputs": [],
   "source": []
  },
  {
   "cell_type": "code",
   "execution_count": 104,
   "id": "6f3b86fb-e651-4334-9539-b8a40fe6e1e7",
   "metadata": {},
   "outputs": [
    {
     "data": {
      "text/plain": [
       "[<matplotlib.lines.Line2D at 0x7fbdd0c98f70>]"
      ]
     },
     "execution_count": 104,
     "metadata": {},
     "output_type": "execute_result"
    },
    {
     "data": {
      "image/png": "[encoded data removed]",
      "text/plain": [
       "<Figure size 432x288 with 1 Axes>"
      ]
     },
     "metadata": {
      "needs_background": "light"
     },
     "output_type": "display_data"
    }
   ],
   "source": [
    "plt.plot(y)"
   ]
  },
  {
   "cell_type": "code",
   "execution_count": 157,
   "id": "4203e81e-e1e4-40e7-947f-60d8234ac89b",
   "metadata": {},
   "outputs": [
    {
     "data": {
      "text/plain": [
       "71"
      ]
     },
     "execution_count": 157,
     "metadata": {},
     "output_type": "execute_result"
    }
   ],
   "source": [
    "q2.size"
   ]
  },
  {
   "cell_type": "code",
   "execution_count": 169,
   "id": "30462f0a-5ad0-4e2b-85e5-30bf63d8b045",
   "metadata": {},
   "outputs": [
    {
     "data": {
      "text/plain": [
       "[<matplotlib.lines.Line2D at 0x7fbdd14ab9d0>]"
      ]
     },
     "execution_count": 169,
     "metadata": {},
     "output_type": "execute_result"
    },
    {
     "data": {
      "image/png": "[encoded data removed]",
      "text/plain": [
       "<Figure size 432x288 with 1 Axes>"
      ]
     },
     "metadata": {
      "needs_background": "light"
     },
     "output_type": "display_data"
    }
   ],
   "source": [
    "plt.plot(range(91+20,91*2), q2)\n",
    "plt.plot(range(91*2,91*3),q3)"
   ]
  },
  {
   "cell_type": "code",
   "execution_count": 170,
   "id": "ac36abe2-d7f3-4583-be3b-e0a2bc5853b8",
   "metadata": {},
   "outputs": [
    {
     "data": {
      "text/plain": [
       "(243869.86232535934, 243869.86232535934)"
      ]
     },
     "execution_count": 170,
     "metadata": {},
     "output_type": "execute_result"
    }
   ],
   "source": [
    "q2[-1],q3[0]"
   ]
  },
  {
   "cell_type": "code",
   "execution_count": null,
   "id": "28e94e96-ef14-455f-9dd0-b611cf478efa",
   "metadata": {},
   "outputs": [],
   "source": []
  }
 ],
 "metadata": {
  "kernelspec": {
   "display_name": "Python 3 (ipykernel)",
   "language": "python",
   "name": "python3"
  },
  "language_info": {
   "codemirror_mode": {
    "name": "ipython",
    "version": 3
   },
   "file_extension": ".py",
   "mimetype": "text/x-python",
   "name": "python",
   "nbconvert_exporter": "python",
   "pygments_lexer": "ipython3",
   "version": "3.9.7"
  },
  "toc-autonumbering": false
 },
 "nbformat": 4,
 "nbformat_minor": 5
}
